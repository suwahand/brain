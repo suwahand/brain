{
 "cells": [
  {
   "cell_type": "code",
   "execution_count": 1,
   "metadata": {},
   "outputs": [
    {
     "name": "stderr",
     "output_type": "stream",
     "text": [
      "c:\\Users\\user\\anaconda3\\envs\\happy\\lib\\site-packages\\ipykernel_launcher.py:12: DeprecationWarning: executable_path has been deprecated, please pass in a Service object\n",
      "  if sys.path[0] == \"\":\n"
     ]
    }
   ],
   "source": [
    "import time\n",
    "from selenium import webdriver\n",
    "from bs4 import BeautifulSoup\n",
    "from selenium.webdriver.common.by import By\n",
    "from selenium.webdriver.support.ui import WebDriverWait\n",
    "from selenium.webdriver import ActionChains\n",
    "import pandas as pd\n",
    "import io\n",
    "import sys\n",
    "\n",
    "driver = webdriver.Chrome('chromedriver.exe')\n",
    "url = \"https://www.statista.com/statistics/popular/\"\n",
    "driver.get(url)\n",
    "\n",
    "\n",
    "#driver.find_element(By.XPATH, \"/html/body/div[18]/div[3]/div/div/div[2]/div/div/button\").click()\n",
    "#로그인\n",
    "driver.implicitly_wait(3)\n",
    "driver.find_element(By.XPATH, \"/html/body/div[4]/header/div/div/div/div[1]/div[3]/div[1]/nav/ul/li[3]/form/input\").click()\n",
    "driver.find_element(By.NAME, \"loginStat[username]\").send_keys('suwah@brainventur.com')\n",
    "driver.find_element(By.NAME, \"loginStat[password]\").send_keys('Greensubb23@')\n",
    "driver.find_element(By.XPATH,\"/html/body/div[4]/header/div/div/div/div[2]/div[2]/div/div[1]/div[2]/form/div[5]/div/button\").click()"
   ]
  },
  {
   "cell_type": "code",
   "execution_count": 2,
   "metadata": {},
   "outputs": [],
   "source": [
    "soup = BeautifulSoup(driver.page_source, 'html.parser')\n",
    "#경로 및 리스트 설정\n",
    "path_img = \"C:/Users/user/Desktop/BV/chart2text/new/\"\n",
    "path_data = \"C:/Users/user/Desktop/BV/chart2text/new/\"\n",
    "list1 = []\n",
    "        "
   ]
  },
  {
   "cell_type": "code",
   "execution_count": 16,
   "metadata": {},
   "outputs": [
    {
     "name": "stdout",
     "output_type": "stream",
     "text": [
      "[0, 25, 50, 75, 100, 125, 150, 175, 200, 225, 250, 275, 300, 325, 350, 375, 400, 425, 450, 475, 500, 525, 550, 575, 600, 625, 650, 675, 700, 725, 750, 775, 800, 825, 850, 875, 900, 925, 950, 975]\n"
     ]
    }
   ],
   "source": [
    "\n",
    "num = list(filter(lambda n: True if n%25==0 else False,range(1,1000)))\n",
    "num.append(0)\n",
    "num.sort(reverse=False)\n",
    "print(num)"
   ]
  },
  {
   "cell_type": "code",
   "execution_count": 4,
   "metadata": {},
   "outputs": [],
   "source": [
    "chart_title=[]\n",
    "chart_caption=[]\n",
    "repeat_num = 4 #반복횟수(페이지 수)\n",
    "next_btn = 8 #다음페이지 번호 시작값\n",
    "#크롤링 작업\n",
    "for i in range(repeat_num):\n",
    "    for j in range(25):\n",
    "        #페이지 들어가기\n",
    "        Xpath = \"/html/body/div[4]/main/section[2]/div/div[2]/div[1]/ul/li[\"+str(j+1)+\"]/a/span[2]/span[1]\"\n",
    "        list1.append(Xpath)\n",
    "        driver.find_element(By.XPATH, list1[j]).click()\n",
    "        \n",
    "        #데이터 크롤링(파일로 다운)\n",
    "        excel_path = \"/html/body/div[4]/main/section[2]/div[2]/article[3]/div[2]/div[2]/div/div[1]/div/div/div[2]/div[2]/button/span[2]\"\n",
    "        driver.implicitly_wait(4)\n",
    "        driver.find_element(By.XPATH,excel_path).click()\n",
    "        \n",
    "        #이미지 크롤링\n",
    "        #이미지 캡쳐(더보기 있는 경우/없는 경우)\n",
    "        page = num[i]\n",
    "        try:\n",
    "            driver.find_element(By.XPATH,\"/html/body/div[4]/main/section[2]/div[2]/article[3]/div[2]/div[1]/div[1]/article/div/div/div[2]/div[2]/button\").click()\n",
    "            # 해당 아이디를 찾은 후 거기까지 스크롤 진행\n",
    "            some_tag = driver.find_element(By.ID, \"statisticTitle\")\n",
    "            action = ActionChains(driver)\n",
    "            action.move_to_element(some_tag).perform()\n",
    "            time.sleep(5)\n",
    "            \n",
    "            driver.save_screenshot(path_img+str(j+page-1)+\".png\") # 수정 부분\n",
    "        except:\n",
    "            # 해당 아이디를 찾은 후 거기까지 스크롤 진행\n",
    "            some_tag = driver.find_element(By.ID, \"statisticTitle\")\n",
    "            action = ActionChains(driver)\n",
    "            action.move_to_element(some_tag).perform()\n",
    "            time.sleep(5)\n",
    "            driver.save_screenshot(path_img+str(j+page-1)+\".png\") # 수정 부분\n",
    "        \n",
    "        #타이틀 크롤링\n",
    "        title = driver.find_element(By.ID, \"statisticTitle\").text\n",
    "        chart_title.append(title)    \n",
    "        \n",
    "        #캡션 크롤링(더보기 있는 경우/없는 경우)\n",
    "        try:\n",
    "            driver.find_element(By.XPATH,\"/html/body/div[4]/main/section[2]/div[2]/article[1]/div/div/button\").click()\n",
    "            caption = driver.find_element(By.XPATH, \"/html/body/div[4]/main/section[2]/div[2]/article[1]/div/div/div\").text\n",
    "            chart_caption.append(caption)\n",
    "        except: \n",
    "            caption = driver.find_element(By.XPATH, \"/html/body/div[4]/main/section[2]/div[2]/article[1]/div/div/div\").text\n",
    "            chart_caption.append(caption)                \n",
    "        \n",
    "        #페이지 돌아가기\n",
    "        driver.back()\n",
    "        time.sleep(2)\n",
    "        #다음 페이지로 넘기기\n",
    "    driver.find_element(By.XPATH, \"/html/body/div[4]/main/section[2]/div/div[2]/div[1]/div/div/ul/li[\"+str(next_btn+i)+\"]/a\").click()\n",
    "\n",
    "    i += 1            "
   ]
  },
  {
   "cell_type": "code",
   "execution_count": 6,
   "metadata": {},
   "outputs": [],
   "source": [
    "#타이틀, 캡션 파일화\n",
    "c_title = []\n",
    "c_caption = []\n",
    "c_caption.append(chart_caption)\n",
    "c_title.append(chart_title)\n",
    "caption_res = sum(c_caption, []) # 1차원 리스트로 분해\n",
    "title_res = sum(c_title, [])\n",
    "\n",
    "path = \"C:/Users/user/Desktop/BV/chart2text/Statista/Statista_sample/caption/\"\n",
    "\n",
    "i = 0\n",
    "for i in range(len(caption_res)):\n",
    "    file_name = i+67\n",
    "\n",
    "    sys.stdout = open(path + f\"{file_name}.txt\",'w')\n",
    "    print(caption_res[i])\n",
    "    sys.stdout.close()\n",
    "    i+=1    \n"
   ]
  },
  {
   "cell_type": "code",
   "execution_count": 12,
   "metadata": {},
   "outputs": [],
   "source": [
    "#데이터 파일 옮기기\n",
    "import glob\n",
    "import os\n",
    "from pathlib import Path\n",
    "import shutil\n",
    "\n",
    "folder_path = \"C:/Users/user/Downloads\"\n",
    "save_path = save_path = \"C:/Users/user/Desktop/BV/chart2text/new/\"#저장경로\n",
    "file_count = glob.glob(folder_path + '/statistic*.xlsx')\n",
    "file_count = sorted(file_count, key=os.path.getmtime)\n",
    "\n",
    "for i in range(len(file_count)):\n",
    " file_name = Path(file_count[i]).stem+\".xlsx\"\n",
    " shutil.move(file_count[i], save_path+file_name)"
   ]
  },
  {
   "cell_type": "markdown",
   "metadata": {},
   "source": []
  },
  {
   "cell_type": "code",
   "execution_count": null,
   "metadata": {},
   "outputs": [],
   "source": []
  }
 ],
 "metadata": {
  "kernelspec": {
   "display_name": "happy",
   "language": "python",
   "name": "happy"
  },
  "language_info": {
   "codemirror_mode": {
    "name": "ipython",
    "version": 3
   },
   "file_extension": ".py",
   "mimetype": "text/x-python",
   "name": "python",
   "nbconvert_exporter": "python",
   "pygments_lexer": "ipython3",
   "version": "3.7.12"
  },
  "orig_nbformat": 4
 },
 "nbformat": 4,
 "nbformat_minor": 2
}
