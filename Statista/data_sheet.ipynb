{
 "cells": [
  {
   "cell_type": "code",
   "execution_count": 1,
   "metadata": {},
   "outputs": [],
   "source": [
    "import pandas as pd\n",
    "import glob"
   ]
  },
  {
   "cell_type": "code",
   "execution_count": 26,
   "metadata": {},
   "outputs": [
    {
     "name": "stdout",
     "output_type": "stream",
     "text": [
      "100\n"
     ]
    }
   ],
   "source": [
    "folder_path = \"C:/Users/user/Desktop/BV/chart2text/Statista/2차 샘플/data\"\n",
    "file_count = len(glob.glob(folder_path + '/*'))\n",
    "print(file_count)"
   ]
  },
  {
   "cell_type": "code",
   "execution_count": 31,
   "metadata": {},
   "outputs": [],
   "source": [
    "data_list =[] #데이터만 있는 파일리스트\n",
    "for i in range(file_count): #파일 수에 맞게 카운팅\n",
    "    file_path = \"C:/Users/user/Desktop/BV/chart2text/Statista/2차 샘플/data/\"+str(i)+\".xlsx\" #넘버링 된 파일명 이용하여 경로 설정\n",
    "    data = pd.read_excel(file_path, sheet_name = 1,skiprows=[0,1,2,3])#차트 윗부분에 있는 제목은 제거\n",
    "    data = data.drop(data.columns[0],axis=1)#빈 공간인 0번컬럼도 제거\n",
    "    data.fillna(\" \")#결측치 제거\n",
    "    data_list.append(data)#데이터 추가\n",
    "    i+=1#다음 엑셀파일"
   ]
  },
  {
   "cell_type": "code",
   "execution_count": 37,
   "metadata": {},
   "outputs": [],
   "source": [
    "save_path = \"C:/Users/user/Desktop/BV/chart2text/Statista/2차 샘플/only_data/\"#저장경로\n",
    "for i in range(file_count):\n",
    "    data_list[i].to_excel(save_path+str(i)+'.xlsx') #data_list에 있는 파일들 저장\n",
    "    i+=1"
   ]
  }
 ],
 "metadata": {
  "kernelspec": {
   "display_name": "happy",
   "language": "python",
   "name": "happy"
  },
  "language_info": {
   "codemirror_mode": {
    "name": "ipython",
    "version": 3
   },
   "file_extension": ".py",
   "mimetype": "text/x-python",
   "name": "python",
   "nbconvert_exporter": "python",
   "pygments_lexer": "ipython3",
   "version": "3.7.12"
  },
  "orig_nbformat": 4
 },
 "nbformat": 4,
 "nbformat_minor": 2
}
