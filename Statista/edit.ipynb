{
 "cells": [
  {
   "cell_type": "code",
   "execution_count": 1,
   "metadata": {},
   "outputs": [],
   "source": [
    "import os, glob\n",
    "import io\n",
    "import fitz\n",
    "import pandas as pd\n",
    "\n",
    "path_img = 'C:/Users/user/Desktop/BV/chart2text/Statista/Statista_sample/image/'\n",
    "path_cap = 'C:/Users/user/Desktop/BV/chart2text/Statista/Statista_sample/caption/'\n",
    "path_tit = 'C:/Users/user/Desktop/BV/chart2text/Statista/Statista_sample/title/'\n",
    "path_dat = 'C:/Users/user/Desktop/BV/chart2text/Statista/Statista_sample/data/'"
   ]
  },
  {
   "cell_type": "code",
   "execution_count": 17,
   "metadata": {},
   "outputs": [],
   "source": [
    "num = \"69 80 87 98 100 102 104 105 114\" #유료 차트\n",
    "cost_list = num.split( )\n",
    "\n",
    "num2 = \"76 80 85 95 99 106\" #제거대상 차트\n",
    "long_list = num2.split()\n"
   ]
  },
  {
   "cell_type": "code",
   "execution_count": 3,
   "metadata": {},
   "outputs": [],
   "source": [
    "for v in range(len(cost_list)): #유료 차트 제거, path에 삭제할 항목 경로 입력\n",
    "    os.remove(path_img+ cost_list[v]+\".png\") #이미지 제거\n",
    "    os.remove(path_cap + cost_list[v]+\".txt\") #캡션 제거\n",
    "    os.remove(path_tit +cost_list[v]+\".txt\") #타이틀 제거\n",
    "    v+=1"
   ]
  },
  {
   "cell_type": "code",
   "execution_count": 29,
   "metadata": {},
   "outputs": [
    {
     "ename": "FileExistsError",
     "evalue": "[WinError 183] 파일이 이미 있으므로 만들 수 없습니다: 'C:/Users/user/Desktop/BV/chart2text/Statista/Statista_sample/data/100.xlsx' -> 'C:/Users/user/Desktop/BV/chart2text/Statista/Statista_sample/data/67.xlsx'",
     "output_type": "error",
     "traceback": [
      "\u001b[1;31m---------------------------------------------------------------------------\u001b[0m",
      "\u001b[1;31mFileExistsError\u001b[0m                           Traceback (most recent call last)",
      "\u001b[1;32m~\\AppData\\Local\\Temp\\ipykernel_12504\\3778801251.py\u001b[0m in \u001b[0;36m<module>\u001b[1;34m\u001b[0m\n\u001b[0;32m      9\u001b[0m     \u001b[0msrc\u001b[0m \u001b[1;33m=\u001b[0m \u001b[0mos\u001b[0m\u001b[1;33m.\u001b[0m\u001b[0mpath\u001b[0m\u001b[1;33m.\u001b[0m\u001b[0mjoin\u001b[0m\u001b[1;33m(\u001b[0m\u001b[0mname\u001b[0m\u001b[1;33m)\u001b[0m\u001b[1;33m\u001b[0m\u001b[1;33m\u001b[0m\u001b[0m\n\u001b[0;32m     10\u001b[0m     \u001b[0mdst\u001b[0m \u001b[1;33m=\u001b[0m \u001b[0mpath_dat\u001b[0m\u001b[1;33m+\u001b[0m\u001b[0mstr\u001b[0m\u001b[1;33m(\u001b[0m\u001b[1;36m67\u001b[0m\u001b[1;33m+\u001b[0m\u001b[0mi\u001b[0m\u001b[1;33m)\u001b[0m\u001b[1;33m+\u001b[0m\u001b[1;34m\".xlsx\"\u001b[0m\u001b[1;33m\u001b[0m\u001b[1;33m\u001b[0m\u001b[0m\n\u001b[1;32m---> 11\u001b[1;33m     \u001b[0mos\u001b[0m\u001b[1;33m.\u001b[0m\u001b[0mrename\u001b[0m\u001b[1;33m(\u001b[0m\u001b[0msrc\u001b[0m\u001b[1;33m,\u001b[0m \u001b[0mdst\u001b[0m\u001b[1;33m)\u001b[0m\u001b[1;33m\u001b[0m\u001b[1;33m\u001b[0m\u001b[0m\n\u001b[0m\u001b[0;32m     12\u001b[0m     \u001b[0mi\u001b[0m\u001b[1;33m+=\u001b[0m\u001b[1;36m1\u001b[0m\u001b[1;33m\u001b[0m\u001b[1;33m\u001b[0m\u001b[0m\n",
      "\u001b[1;31mFileExistsError\u001b[0m: [WinError 183] 파일이 이미 있으므로 만들 수 없습니다: 'C:/Users/user/Desktop/BV/chart2text/Statista/Statista_sample/data/100.xlsx' -> 'C:/Users/user/Desktop/BV/chart2text/Statista/Statista_sample/data/67.xlsx'"
     ]
    }
   ],
   "source": [
    "#데이터 이름 넘버링\n",
    "\n",
    "name_list = os.listdir(path_dat) #파일 이름 긁어오기\n",
    "full_list = [os.path.join(path_dat,i) for i in name_list] #리스트화\n",
    "\n",
    "full_list.sort(reverse=False)\n",
    "i=0\n",
    "for name in full_list:\n",
    "    src = os.path.join(name)\n",
    "    dst = path_dat+str(67+i)+\".xlsx\"\n",
    "    os.rename(src, dst)\n",
    "    i+=1"
   ]
  },
  {
   "cell_type": "code",
   "execution_count": 8,
   "metadata": {},
   "outputs": [],
   "source": [
    "#데이터 이름 넘버링\n",
    "name_list = os.listdir(path_dat) #파일 이름 긁어오기\n",
    "full_list = [os.path.join(path_dat,i) for i in name_list] #리스트화\n",
    "\n",
    "time_orded_list = sorted(full_list, key=os.path.getmtime) #수정일 순\n",
    "\n",
    "i=0\n",
    "for name in time_orded_list:\n",
    "    src = os.path.join(name)\n",
    "    dst = path_dat+str(67+i)+\".xlsx\"\n",
    "    os.rename(src, dst)\n",
    "    i+=1"
   ]
  },
  {
   "cell_type": "code",
   "execution_count": 20,
   "metadata": {},
   "outputs": [],
   "source": [
    "#타이틀,캡션,이미지 이름 넘버링(데이터와 번호 맞추기 위해)\n",
    "\n",
    "name_img = os.listdir(path_img) #이미지 파일 이름 긁어오기\n",
    "list_img = [os.path.join(path_img,i) for i in name_img] #리스트화\n",
    "\n",
    "list_img.sort(reverse=False)\n",
    "\n",
    "i=0\n",
    "for name in list_img:\n",
    "    src = os.path.join(name)\n",
    "    dst = path_img+str(67+i)+\".png\" #경로 및 형식변환해주기\n",
    "    os.rename(src, dst)\n",
    "    i+=1\n"
   ]
  },
  {
   "cell_type": "code",
   "execution_count": 22,
   "metadata": {},
   "outputs": [],
   "source": [
    "#타이틀,캡션,이미지 이름 넘버링(데이터와 번호 맞추기 위해)\n",
    "name_cap= os.listdir(path_cap) #캡션 파일 이름 긁어오기\n",
    "list_cap = [os.path.join(path_cap,i) for i in name_cap] #리스트화\n",
    "\n",
    "list_cap.sort(reverse=False)\n",
    "\n",
    "i=0\n",
    "for name in list_cap:\n",
    "    src = os.path.join(name)\n",
    "    dst = path_cap+str(67+i)+\".txt\" #경로 및 형식변환해주기\n",
    "    os.rename(src, dst)\n",
    "    i+=1\n"
   ]
  },
  {
   "cell_type": "code",
   "execution_count": 24,
   "metadata": {},
   "outputs": [],
   "source": [
    "#타이틀,캡션,이미지 이름 넘버링(데이터와 번호 맞추기 위해)\n",
    "\n",
    "name_tit= os.listdir(path_tit) #타이틀 파일 이름 긁어오기\n",
    "list_tit = [os.path.join(path_tit,i) for i in name_tit] #리스트화\n",
    "\n",
    "list_tit.sort(reverse=False)\n",
    "\n",
    "i=0\n",
    "for name in list_tit:\n",
    "    src = os.path.join(name)\n",
    "    dst = path_tit+str(67+i)+\".txt\" #경로 및 형식변환해주기\n",
    "    os.rename(src, dst)\n",
    "    i+=1\n"
   ]
  },
  {
   "cell_type": "code",
   "execution_count": 18,
   "metadata": {},
   "outputs": [],
   "source": [
    "for v in range(len(long_list)): #길이가 긴 차트 제거, path에 삭제할 항목 경로 입력\n",
    "   os.remove(path_img+long_list[v]+\".png\") #이미지 제거\n",
    "   os.remove(path_cap + long_list[v]+\".txt\") #캡션 제거\n",
    "   os.remove(path_tit + long_list[v]+\".txt\") #타이틀 제거\n",
    "   os.remove(path_dat + long_list[v]+\".xlsx\") #데이터 제거\n",
    "   v+=1"
   ]
  }
 ],
 "metadata": {
  "kernelspec": {
   "display_name": "happy",
   "language": "python",
   "name": "happy"
  },
  "language_info": {
   "codemirror_mode": {
    "name": "ipython",
    "version": 3
   },
   "file_extension": ".py",
   "mimetype": "text/x-python",
   "name": "python",
   "nbconvert_exporter": "python",
   "pygments_lexer": "ipython3",
   "version": "3.7.12"
  },
  "orig_nbformat": 4
 },
 "nbformat": 4,
 "nbformat_minor": 2
}
